{
  "metadata": {
    "kernelspec": {
      "name": "python",
      "display_name": "Python (Pyodide)",
      "language": "python"
    },
    "language_info": {
      "codemirror_mode": {
        "name": "python",
        "version": 3
      },
      "file_extension": ".py",
      "mimetype": "text/x-python",
      "name": "python",
      "nbconvert_exporter": "python",
      "pygments_lexer": "ipython3",
      "version": "3.8"
    },
    "vscode": {
      "interpreter": {
        "hash": "6cf8df3ff69f85f626faf55c10df6fe2cb9d1236b4dc73844ee4dc01369c2c99"
      }
    }
  },
  "nbformat_minor": 4,
  "nbformat": 4,
  "cells": [
    {
      "cell_type": "markdown",
      "source": "# Checkpoint 1 \n## (Do not remove any comments that start with\"# @@@\".) ",
      "metadata": {}
    },
    {
      "cell_type": "markdown",
      "source": "Reminder: \n\n- You are being evaluated for completion and effort in this checkpoint. \n- Avoid manual labor / hard coding as much as possible, everything we've taught you so far are meant to simplify and automate your process.\n- Please do not remove any comment that starts with: \"# @@@\". ",
      "metadata": {}
    },
    {
      "cell_type": "markdown",
      "source": "We will be working with the same `states_edu.csv` that you should already be familiar with from the tutorial.\n\nWe investigated Grade 8 reading score in the tutorial. For this checkpoint, you are asked to investigate another test. Here's an overview:\n\n* Choose a specific response variable to focus on\n>Grade 4 Math, Grade 4 Reading, Grade 8 Math\n* Pick or create features to use\n>Will all the features be useful in predicting test score? Are some more important than others? Should you standardize, bin, or scale the data?\n* Explore the data as it relates to that test\n>Create at least 2 visualizations (graphs), each with a caption describing the graph and what it tells us about the data\n* Create training and testing data\n>Do you want to train on all the data? Only data from the last 10 years? Only Michigan data?\n* Train a ML model to predict outcome \n>Define what you want to predict, and pick a model in sklearn to use (see sklearn <a href=\"https://scikit-learn.org/stable/modules/linear_model.html\">regressors</a>).\n\n\nInclude comments throughout your code! Every cleanup and preprocessing task should be documented.\n",
      "metadata": {}
    },
    {
      "cell_type": "markdown",
      "source": "",
      "metadata": {}
    },
    {
      "cell_type": "markdown",
      "source": "<h2> Data Cleanup </h2>\n\nImport `numpy`, `pandas`, and `matplotlib`.\n\n(Feel free to import other libraries!)",
      "metadata": {}
    },
    {
      "cell_type": "code",
      "source": "import numpy as np\nimport pandas as pd \nimport matplotlib as plt\n",
      "metadata": {
        "trusted": true
      },
      "outputs": [],
      "execution_count": 6
    },
    {
      "cell_type": "markdown",
      "source": "Load in the \"states_edu.csv\" dataset and take a look at the head of the data",
      "metadata": {}
    },
    {
      "cell_type": "code",
      "source": "df = pd.read_csv('states_edu.csv')",
      "metadata": {
        "trusted": true
      },
      "outputs": [],
      "execution_count": 2
    },
    {
      "cell_type": "markdown",
      "source": "You should always familiarize yourself with what each column in the dataframe represents. Read about the states_edu dataset here: https://www.kaggle.com/noriuk/us-education-datasets-unification-project",
      "metadata": {}
    },
    {
      "cell_type": "markdown",
      "source": "Use this space to rename columns, deal with missing data, etc. _(optional)_",
      "metadata": {}
    },
    {
      "cell_type": "code",
      "source": "",
      "metadata": {
        "trusted": true
      },
      "outputs": [],
      "execution_count": null
    },
    {
      "cell_type": "markdown",
      "source": "<h2>Exploratory Data Analysis (EDA) </h2>",
      "metadata": {}
    },
    {
      "cell_type": "markdown",
      "source": "Chosen one of Grade 4 Reading, Grade 4 Math, or Grade 8 Math to focus on: *ENTER YOUR CHOICE HERE*",
      "metadata": {}
    },
    {
      "cell_type": "markdown",
      "source": "How many years of data are logged in our dataset? ",
      "metadata": {}
    },
    {
      "cell_type": "code",
      "source": "# @@@ 1\n# Your Code\nyears = np.ptp(df['YEAR'])",
      "metadata": {
        "trusted": true
      },
      "outputs": [],
      "execution_count": 7
    },
    {
      "cell_type": "markdown",
      "source": "Let's compare Michigan to Ohio. Which state has the higher average across all years in the test you chose?",
      "metadata": {}
    },
    {
      "cell_type": "code",
      "source": "# @@@ 2\ncolumn = \"AVG_MATH_4_SCORE\"\nfilt = df[df[\"STATE\"].isin([\"MICHIGAN\", \"OHIO\"])]\navg_scores = filt.groupby(\"STATE\")[column].mean()",
      "metadata": {
        "trusted": true
      },
      "outputs": [],
      "execution_count": null
    },
    {
      "cell_type": "markdown",
      "source": "Find the average for your chosen test across all states in 2019",
      "metadata": {}
    },
    {
      "cell_type": "code",
      "source": "# @@@ 3\nTestyr = df[df[\"YEAR\"] == 2019]\navgTest = Testyr[\"AVG_MATH_4_SCORE\"].mean()\n",
      "metadata": {
        "trusted": true
      },
      "outputs": [],
      "execution_count": null
    },
    {
      "cell_type": "markdown",
      "source": "For each state, find a maximum value for your chosen test score",
      "metadata": {}
    },
    {
      "cell_type": "code",
      "source": "# @@@ 4\nmaxScore = df.groupby(\"STATE\")[\"AVG_MATH_4_SCORE\"].max()\n",
      "metadata": {
        "trusted": true
      },
      "outputs": [],
      "execution_count": null
    },
    {
      "cell_type": "markdown",
      "source": "*Refer to the `Grouping and Aggregating` section in Tutorial 0 if you are stuck.",
      "metadata": {}
    },
    {
      "cell_type": "markdown",
      "source": "<h2> Feature Engineering </h2>\n\nAfter exploring the data, you can choose to modify features that you would use to predict the performance of the students on your chosen response variable. \n\nYou can also create your own features. For example, perhaps you figured that maybe a state's expenditure per student may affect their overall academic performance so you create a expenditure_per_student feature.\n\nUse this space to modify or create features.",
      "metadata": {}
    },
    {
      "cell_type": "code",
      "source": "# @@@ 5\ndf[\"PROFIT\"] = df[\"TOTAL_REVENUE\"] - df[\"TOTAL_EXPENDITURE\"]\n",
      "metadata": {
        "trusted": true
      },
      "outputs": [],
      "execution_count": null
    },
    {
      "cell_type": "markdown",
      "source": "Feature engineering justification: **<I created this freature so we can see how much the states are making and to see if it is sustainable>** ",
      "metadata": {}
    },
    {
      "cell_type": "markdown",
      "source": "<h2>Visualization</h2>\n\nInvestigate the relationship between your chosen response variable and at least two predictors using visualizations. Write down your observations.\n\n**Visualization 1**",
      "metadata": {}
    },
    {
      "cell_type": "code",
      "source": "# @@@ 6\ndf.plot.scatter(x = \"TOTAL_REVENUE\", y = \"TOTAL_EXPENDITURE\", alpha = 0.6)\n",
      "metadata": {
        "trusted": true
      },
      "outputs": [],
      "execution_count": null
    },
    {
      "cell_type": "markdown",
      "source": "**<The scatterplot above showes the ratio between total revenue and total expenditure>** ",
      "metadata": {}
    },
    {
      "cell_type": "markdown",
      "source": "**Visualization 2**",
      "metadata": {}
    },
    {
      "cell_type": "code",
      "source": "# @@@ 7\ndf.plot.scatter(x = \"TOTAL_EXPENDITURE\", y = \"AVG_MATH_4_SCORE\", alpha = 0.6)",
      "metadata": {
        "trusted": true
      },
      "outputs": [],
      "execution_count": null
    },
    {
      "cell_type": "markdown",
      "source": "**<The rate at which states spend to thier 4 grade math score>**",
      "metadata": {}
    },
    {
      "cell_type": "markdown",
      "source": "<h2> Data Creation </h2>\n\n_Use this space to create train/test data_",
      "metadata": {}
    },
    {
      "cell_type": "code",
      "source": "from sklearn.model_selection import train_test_split",
      "metadata": {
        "trusted": true
      },
      "outputs": [],
      "execution_count": null
    },
    {
      "cell_type": "code",
      "source": "# @@@ 8\n\nX = df[['GRADES_8_G','AVG_MATH_8_SCORE','AVG_READING_4_SCORE']].dropna()\ny = df.loc[X.index]['AVG_READING_8_SCORE'] \ny.fillna(y.median(), inplace=True)",
      "metadata": {
        "trusted": true
      },
      "outputs": [],
      "execution_count": null
    },
    {
      "cell_type": "code",
      "source": "# @@@ 9 \nX_train, X_test, y_train, y_test = train_test_split(X, y, test_size=.3, random_state=0)\n",
      "metadata": {
        "trusted": true
      },
      "outputs": [],
      "execution_count": null
    },
    {
      "cell_type": "markdown",
      "source": "<h2> Prediction </h2>",
      "metadata": {}
    },
    {
      "cell_type": "markdown",
      "source": "ML Models [Resource](https://medium.com/@vijaya.beeravalli/comparison-of-machine-learning-classification-models-for-credit-card-default-data-c3cf805c9a5a)",
      "metadata": {}
    },
    {
      "cell_type": "code",
      "source": "# @@@ 10\n# import your sklearn class here\nfrom sklearn.linear_model import LinearRegression",
      "metadata": {
        "trusted": true
      },
      "outputs": [],
      "execution_count": null
    },
    {
      "cell_type": "code",
      "source": "# @@@ 11\n# create your model here\nmodel = LinearRegression()",
      "metadata": {
        "trusted": true
      },
      "outputs": [],
      "execution_count": null
    },
    {
      "cell_type": "code",
      "source": "model.fit(X_train, y_train)",
      "metadata": {
        "trusted": true
      },
      "outputs": [],
      "execution_count": null
    },
    {
      "cell_type": "code",
      "source": "y_pred = model.predict(X_test)",
      "metadata": {
        "trusted": true
      },
      "outputs": [],
      "execution_count": null
    },
    {
      "cell_type": "markdown",
      "source": "## Evaluation",
      "metadata": {}
    },
    {
      "cell_type": "markdown",
      "source": "Choose some metrics to evaluate the performance of your model, some of them are mentioned in the tutorial.",
      "metadata": {}
    },
    {
      "cell_type": "code",
      "source": "# @@@ 12\nnp.mean(model.predict(X_test)-y_test)\nnp.mean(np.abs(model.predict(X_test)-y_test))",
      "metadata": {
        "trusted": true
      },
      "outputs": [],
      "execution_count": null
    },
    {
      "cell_type": "markdown",
      "source": "We have copied over the graphs that visualize the model's performance on the training and testing set. \n\nChange `col_name` and modify the call to `plt.ylabel()` to isolate how a single predictor affects the model.",
      "metadata": {}
    },
    {
      "cell_type": "code",
      "source": "# @@@ 13\n\ncol_name = 'AVG_MATH_8_SCORE'\n\nf = plt.figure(figsize=(12,6))\nplt.scatter(X_train[col_name], y_train, color = \"red\")\nplt.scatter(X_train[col_name], model.predict(X_train), color = \"green\")\n\nplt.legend(['True Training','Predicted Training'])\nplt.xlabel(col_name)\nplt.ylabel('Reading 8 score')\nplt.title(\"Model Behavior On Training Set\")",
      "metadata": {
        "trusted": true
      },
      "outputs": [
        {
          "ename": "<class 'AttributeError'>",
          "evalue": "module 'matplotlib' has no attribute 'figure'",
          "traceback": [
            "\u001b[0;31m---------------------------------------------------------------------------\u001b[0m",
            "\u001b[0;31mAttributeError\u001b[0m                            Traceback (most recent call last)",
            "Cell \u001b[0;32mIn[8], line 5\u001b[0m\n\u001b[1;32m      1\u001b[0m \u001b[38;5;66;03m# @@@ 13\u001b[39;00m\n\u001b[1;32m      3\u001b[0m col_name \u001b[38;5;241m=\u001b[39m \u001b[38;5;124m'\u001b[39m\u001b[38;5;124mAVG_MATH_8_SCORE\u001b[39m\u001b[38;5;124m'\u001b[39m\n\u001b[0;32m----> 5\u001b[0m f \u001b[38;5;241m=\u001b[39m \u001b[43mplt\u001b[49m\u001b[38;5;241;43m.\u001b[39;49m\u001b[43mfigure\u001b[49m(figsize\u001b[38;5;241m=\u001b[39m(\u001b[38;5;241m12\u001b[39m,\u001b[38;5;241m6\u001b[39m))\n\u001b[1;32m      6\u001b[0m plt\u001b[38;5;241m.\u001b[39mscatter(X_train[col_name], y_train, color \u001b[38;5;241m=\u001b[39m \u001b[38;5;124m\"\u001b[39m\u001b[38;5;124mred\u001b[39m\u001b[38;5;124m\"\u001b[39m)\n\u001b[1;32m      7\u001b[0m plt\u001b[38;5;241m.\u001b[39mscatter(X_train[col_name], model\u001b[38;5;241m.\u001b[39mpredict(X_train), color \u001b[38;5;241m=\u001b[39m \u001b[38;5;124m\"\u001b[39m\u001b[38;5;124mgreen\u001b[39m\u001b[38;5;124m\"\u001b[39m)\n",
            "File \u001b[0;32m/lib/python3.12/site-packages/matplotlib/_api/__init__.py:217\u001b[0m, in \u001b[0;36mcaching_module_getattr.<locals>.__getattr__\u001b[0;34m(name)\u001b[0m\n\u001b[1;32m    215\u001b[0m \u001b[38;5;28;01mif\u001b[39;00m name \u001b[38;5;129;01min\u001b[39;00m props:\n\u001b[1;32m    216\u001b[0m     \u001b[38;5;28;01mreturn\u001b[39;00m props[name]\u001b[38;5;241m.\u001b[39m\u001b[38;5;21m__get__\u001b[39m(instance)\n\u001b[0;32m--> 217\u001b[0m \u001b[38;5;28;01mraise\u001b[39;00m \u001b[38;5;167;01mAttributeError\u001b[39;00m(\n\u001b[1;32m    218\u001b[0m     \u001b[38;5;124mf\u001b[39m\u001b[38;5;124m\"\u001b[39m\u001b[38;5;124mmodule \u001b[39m\u001b[38;5;132;01m{\u001b[39;00m\u001b[38;5;28mcls\u001b[39m\u001b[38;5;241m.\u001b[39m\u001b[38;5;18m__module__\u001b[39m\u001b[38;5;132;01m!r}\u001b[39;00m\u001b[38;5;124m has no attribute \u001b[39m\u001b[38;5;132;01m{\u001b[39;00mname\u001b[38;5;132;01m!r}\u001b[39;00m\u001b[38;5;124m\"\u001b[39m)\n",
            "\u001b[0;31mAttributeError\u001b[0m: module 'matplotlib' has no attribute 'figure'"
          ],
          "output_type": "error"
        }
      ],
      "execution_count": 8
    },
    {
      "cell_type": "code",
      "source": "# @@@ 14\n\n\ncol_name = \"AVG_MATH_8_SCORE\"\n\n\nf = plt.figure(figsize=(12,6))\nplt.scatter(X_test[col_name], y_test, color = \"blue\")\nplt.scatter(X_test[col_name], model.predict(X_test), color = \"black\")\n\nplt.legend(['True testing','Predicted testing'])\nplt.xlabel(col_name)\nplt.ylabel('AVG_MATH_8_SCORE')\nplt.title(\"Model Behavior on Testing Set\")",
      "metadata": {
        "trusted": true
      },
      "outputs": [
        {
          "ename": "<class 'AttributeError'>",
          "evalue": "module 'matplotlib' has no attribute 'figure'",
          "traceback": [
            "\u001b[0;31m---------------------------------------------------------------------------\u001b[0m",
            "\u001b[0;31mAttributeError\u001b[0m                            Traceback (most recent call last)",
            "Cell \u001b[0;32mIn[11], line 7\u001b[0m\n\u001b[1;32m      1\u001b[0m \u001b[38;5;66;03m# @@@ 14\u001b[39;00m\n\u001b[1;32m      4\u001b[0m col_name \u001b[38;5;241m=\u001b[39m \u001b[38;5;124m\"\u001b[39m\u001b[38;5;124mAVG_MATH_8_SCORE\u001b[39m\u001b[38;5;124m\"\u001b[39m\n\u001b[0;32m----> 7\u001b[0m f \u001b[38;5;241m=\u001b[39m \u001b[43mplt\u001b[49m\u001b[38;5;241;43m.\u001b[39;49m\u001b[43mfigure\u001b[49m(figsize\u001b[38;5;241m=\u001b[39m(\u001b[38;5;241m12\u001b[39m,\u001b[38;5;241m6\u001b[39m))\n\u001b[1;32m      8\u001b[0m plt\u001b[38;5;241m.\u001b[39mscatter(X_test[col_name], y_test, color \u001b[38;5;241m=\u001b[39m \u001b[38;5;124m\"\u001b[39m\u001b[38;5;124mblue\u001b[39m\u001b[38;5;124m\"\u001b[39m)\n\u001b[1;32m      9\u001b[0m plt\u001b[38;5;241m.\u001b[39mscatter(X_test[col_name], model\u001b[38;5;241m.\u001b[39mpredict(X_test), color \u001b[38;5;241m=\u001b[39m \u001b[38;5;124m\"\u001b[39m\u001b[38;5;124mblack\u001b[39m\u001b[38;5;124m\"\u001b[39m)\n",
            "File \u001b[0;32m/lib/python3.12/site-packages/matplotlib/_api/__init__.py:217\u001b[0m, in \u001b[0;36mcaching_module_getattr.<locals>.__getattr__\u001b[0;34m(name)\u001b[0m\n\u001b[1;32m    215\u001b[0m \u001b[38;5;28;01mif\u001b[39;00m name \u001b[38;5;129;01min\u001b[39;00m props:\n\u001b[1;32m    216\u001b[0m     \u001b[38;5;28;01mreturn\u001b[39;00m props[name]\u001b[38;5;241m.\u001b[39m\u001b[38;5;21m__get__\u001b[39m(instance)\n\u001b[0;32m--> 217\u001b[0m \u001b[38;5;28;01mraise\u001b[39;00m \u001b[38;5;167;01mAttributeError\u001b[39;00m(\n\u001b[1;32m    218\u001b[0m     \u001b[38;5;124mf\u001b[39m\u001b[38;5;124m\"\u001b[39m\u001b[38;5;124mmodule \u001b[39m\u001b[38;5;132;01m{\u001b[39;00m\u001b[38;5;28mcls\u001b[39m\u001b[38;5;241m.\u001b[39m\u001b[38;5;18m__module__\u001b[39m\u001b[38;5;132;01m!r}\u001b[39;00m\u001b[38;5;124m has no attribute \u001b[39m\u001b[38;5;132;01m{\u001b[39;00mname\u001b[38;5;132;01m!r}\u001b[39;00m\u001b[38;5;124m\"\u001b[39m)\n",
            "\u001b[0;31mAttributeError\u001b[0m: module 'matplotlib' has no attribute 'figure'"
          ],
          "output_type": "error"
        }
      ],
      "execution_count": 11
    },
    {
      "cell_type": "code",
      "source": "",
      "metadata": {
        "trusted": true
      },
      "outputs": [],
      "execution_count": null
    }
  ]
}